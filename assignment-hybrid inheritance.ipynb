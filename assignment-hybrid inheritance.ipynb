{
 "cells": [
  {
   "cell_type": "markdown",
   "metadata": {},
   "source": [
    "# Hybrid Inheritance"
   ]
  },
  {
   "cell_type": "code",
   "execution_count": 1,
   "metadata": {},
   "outputs": [
    {
     "name": "stdout",
     "output_type": "stream",
     "text": [
      "Parent1 method\n",
      "Parent2 method\n",
      "Parent3 method\n",
      "Childclass1 method\n",
      "Childclass2 method\n",
      "Childclass3 method\n",
      "Childclass4 method\n",
      "Childclass5 method\n"
     ]
    }
   ],
   "source": [
    "class P1:\n",
    "    def m1(self):\n",
    "        print(\"Parent1 method\")\n",
    "class P2:\n",
    "    def m2(self):\n",
    "        print(\"Parent2 method\")\n",
    "class P3:\n",
    "    def m3(self):\n",
    "        print(\"Parent3 method\")                \n",
    "class C1(P1,P2,P3):\n",
    "    def m4(self):\n",
    "        print(\"Childclass1 method\")\n",
    "class C2(C1):\n",
    "    def m5(self):\n",
    "        print(\"Childclass2 method\")\n",
    "class C3(C2):\n",
    "    def m6(self):\n",
    "        print(\"Childclass3 method\")\n",
    "class C4(C3):\n",
    "    def m7(self):\n",
    "        print(\"Childclass4 method\")\n",
    "class C5(C3):\n",
    "    def m8(self):\n",
    "        print(\"Childclass5 method\")\n",
    "\n",
    "c1=C1()\n",
    "c1.m1()\n",
    "c1.m2()\n",
    "c1.m3()\n",
    "c1.m4()\n",
    "c2=C2()\n",
    "c2.m5()\n",
    "c3=C3()\n",
    "c3.m6()\n",
    "c4=C4()\n",
    "c4.m7()\n",
    "c5=C5()\n",
    "c5.m8()\n",
    "\n",
    "\n"
   ]
  },
  {
   "cell_type": "code",
   "execution_count": null,
   "metadata": {},
   "outputs": [],
   "source": []
  }
 ],
 "metadata": {
  "kernelspec": {
   "display_name": "Python 3",
   "language": "python",
   "name": "python3"
  },
  "language_info": {
   "codemirror_mode": {
    "name": "ipython",
    "version": 3
   },
   "file_extension": ".py",
   "mimetype": "text/x-python",
   "name": "python",
   "nbconvert_exporter": "python",
   "pygments_lexer": "ipython3",
   "version": "3.7.4"
  }
 },
 "nbformat": 4,
 "nbformat_minor": 2
}
